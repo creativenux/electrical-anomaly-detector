{
 "cells": [
  {
   "cell_type": "code",
   "execution_count": null,
   "id": "37a730bb",
   "metadata": {},
   "outputs": [],
   "source": [
    "import pandas as pd\n",
    "from sklearn.ensemble import RandomForestClassifier\n",
    "from sklearn.preprocessing import StandardScaler\n",
    "from sklearn.pipeline import Pipeline\n",
    "from sklearn.model_selection import train_test_split\n",
    "from sklearn import metrics\n",
    "import matplotlib.pyplot as plt\n",
    "from joblib import dump"
   ]
  },
  {
   "cell_type": "code",
   "execution_count": null,
   "id": "0ab7e1bb",
   "metadata": {},
   "outputs": [],
   "source": [
    "print('ML algorithm that detect anomally in electrical system in python')"
   ]
  },
  {
   "cell_type": "code",
   "execution_count": null,
   "id": "c75e0776",
   "metadata": {},
   "outputs": [],
   "source": [
    "# read the dataset\n",
    "power_grid_df = pd.read_csv('sp_03_data.csv')\n",
    "power_grid_df.info()"
   ]
  },
  {
   "cell_type": "code",
   "execution_count": null,
   "id": "96520b9f",
   "metadata": {},
   "outputs": [],
   "source": [
    "power_grid_df"
   ]
  },
  {
   "cell_type": "code",
   "execution_count": null,
   "id": "b6c80b7d",
   "metadata": {},
   "outputs": [],
   "source": [
    "# Load and preprocess the data for X\n",
    "X = power_grid_df.drop(columns=[\"id\", \"file_id\", \"FeederIdentifier\", \"CreationTimeStamp\", \"createdAt\", \n",
    "                                \"discoName\", \"substation\", \"feeder\"])\n",
    "X"
   ]
  },
  {
   "cell_type": "code",
   "execution_count": null,
   "id": "4fef322f",
   "metadata": {},
   "outputs": [],
   "source": [
    "y = power_grid_df[\"discoName\"]\n",
    "y"
   ]
  },
  {
   "cell_type": "code",
   "execution_count": null,
   "id": "691328bd",
   "metadata": {},
   "outputs": [],
   "source": [
    "# split the data into \n",
    "X_train, X_test, y_train, y_test = train_test_split(X, y, test_size=0.2, random_state=42)"
   ]
  },
  {
   "cell_type": "code",
   "execution_count": null,
   "id": "58e961e6",
   "metadata": {},
   "outputs": [],
   "source": [
    "# Define the model\n",
    "# model = Pipeline([\n",
    "#     ('scaler', StandardScaler()),\n",
    "#     ('classifier', RandomForestClassifier(random_state=42))\n",
    "# ])\n",
    "model = RandomForestClassifier(random_state=42)"
   ]
  },
  {
   "cell_type": "code",
   "execution_count": null,
   "id": "4f7eace7",
   "metadata": {},
   "outputs": [],
   "source": [
    "# Train the model\n",
    "model.fit(X_train, y_train)"
   ]
  },
  {
   "cell_type": "code",
   "execution_count": null,
   "id": "6addda4a",
   "metadata": {},
   "outputs": [],
   "source": [
    "# persist the trained model\n",
    "dump(model, 'trained-model-randforest.joblib')"
   ]
  },
  {
   "cell_type": "code",
   "execution_count": null,
   "id": "46dca3a9",
   "metadata": {},
   "outputs": [],
   "source": [
    "# Make predictions on the test set\n",
    "y_pred = model.predict(X_test)\n",
    "y_pred"
   ]
  },
  {
   "cell_type": "code",
   "execution_count": null,
   "id": "059eccdc",
   "metadata": {},
   "outputs": [],
   "source": [
    "# Evaluate the model's performance\n",
    "accuracy = metrics.accuracy_score(y_test, y_pred)\n",
    "print(f'Accuracy: {accuracy}')"
   ]
  },
  {
   "cell_type": "code",
   "execution_count": null,
   "id": "e47cdbfb",
   "metadata": {},
   "outputs": [],
   "source": [
    "recall = metrics.recall_score(y_test, y_pred, zero_division=1, average=\"weighted\")\n",
    "print(f'Recall Score: {recall}')"
   ]
  },
  {
   "cell_type": "code",
   "execution_count": null,
   "id": "7769f022",
   "metadata": {},
   "outputs": [],
   "source": [
    "precision = metrics.precision_score(y_test, y_pred, zero_division=1, average=\"weighted\")\n",
    "print(f'Precision Score: {precision}')"
   ]
  },
  {
   "cell_type": "code",
   "execution_count": null,
   "id": "4a4a53d3",
   "metadata": {},
   "outputs": [],
   "source": [
    "# Evaluate the model classification report\n",
    "report = metrics.classification_report(y_test, y_pred, zero_division=1)\n",
    "report"
   ]
  },
  {
   "cell_type": "code",
   "execution_count": null,
   "id": "3c7c839c",
   "metadata": {},
   "outputs": [],
   "source": [
    "# plot confusion matrix chart\n",
    "\n",
    "cm = metrics.confusion_matrix(y_test, y_pred, labels=model.classes_)\n",
    "disp = metrics.ConfusionMatrixDisplay(confusion_matrix=cm,\n",
    "                              display_labels=model.classes_)\n",
    "disp.plot()\n",
    "plt.show()"
   ]
  },
  {
   "cell_type": "code",
   "execution_count": null,
   "id": "251ecd7b",
   "metadata": {},
   "outputs": [],
   "source": [
    "# Determine the ROC curve\n",
    "\n",
    "y_pred_proba = model.predict_proba(X_test) [::,1]\n",
    "\n",
    "# Calculate false and true positive rates\n",
    "false_positive_rate, true_positive_rate, _ = metrics.roc_curve(y_test, y_pred_proba)\n",
    "\n",
    "# Calculate model AUC score\n",
    "auc = metrics.roc_auc_score(y_test, y_pred_proba)\n",
    "\n",
    "# plot the ROC curve\n",
    "plt.plot(false_positive_rate, true_positive_rate,label=\"AUC=\"+str(auc))\n",
    "plt.title('ROC Curve')\n",
    "plt.ylabel('True Positive Rate')\n",
    "plt.xlabel('false Positive Rate')\n",
    "plt.legend(loc=4)"
   ]
  },
  {
   "cell_type": "code",
   "execution_count": null,
   "id": "34f1b677",
   "metadata": {},
   "outputs": [],
   "source": []
  }
 ],
 "metadata": {
  "kernelspec": {
   "display_name": "Python 3 (ipykernel)",
   "language": "python",
   "name": "python3"
  },
  "language_info": {
   "codemirror_mode": {
    "name": "ipython",
    "version": 3
   },
   "file_extension": ".py",
   "mimetype": "text/x-python",
   "name": "python",
   "nbconvert_exporter": "python",
   "pygments_lexer": "ipython3",
   "version": "3.9.13"
  }
 },
 "nbformat": 4,
 "nbformat_minor": 5
}
