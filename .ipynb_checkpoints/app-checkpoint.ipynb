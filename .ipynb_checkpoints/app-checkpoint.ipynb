{
 "cells": [
  {
   "cell_type": "code",
   "execution_count": null,
   "id": "d20aa805",
   "metadata": {},
   "outputs": [],
   "source": [
    "import pandas as pd\n",
    "from sklearn.svm import SVC\n",
    "from sklearn.preprocessing import StandardScaler\n",
    "from sklearn.pipeline import make_pipeline\n",
    "from sklearn.model_selection import train_test_split\n",
    "from sklearn import metrics\n",
    "import matplotlib.pyplot as plt\n",
    "from joblib import dump"
   ]
  },
  {
   "cell_type": "code",
   "execution_count": null,
   "id": "c20362b7",
   "metadata": {},
   "outputs": [],
   "source": [
    "print('ML algorithm that detect anomally in electrical system in python')"
   ]
  },
  {
   "cell_type": "code",
   "execution_count": null,
   "id": "aceb9d4d",
   "metadata": {},
   "outputs": [],
   "source": [
    "# read the dataset\n",
    "power_grid_df = pd.read_csv('sp_03_data.csv')\n",
    "power_grid_df.info()"
   ]
  },
  {
   "cell_type": "code",
   "execution_count": null,
   "id": "2ded2f77",
   "metadata": {
    "scrolled": false
   },
   "outputs": [],
   "source": [
    "power_grid_df"
   ]
  },
  {
   "cell_type": "code",
   "execution_count": null,
   "id": "2833a29e",
   "metadata": {
    "scrolled": false
   },
   "outputs": [],
   "source": [
    "# Load and preprocess the data for X\n",
    "X = power_grid_df.drop(columns=[\"id\", \"file_id\", \"FeederIdentifier\", \"CreationTimeStamp\", \"createdAt\", \n",
    "                                \"discoName\", \"substation\", \"feeder\"])\n",
    "X"
   ]
  },
  {
   "cell_type": "code",
   "execution_count": null,
   "id": "9845f5db",
   "metadata": {
    "scrolled": true
   },
   "outputs": [],
   "source": [
    "y = power_grid_df[\"discoName\"]\n",
    "y"
   ]
  },
  {
   "cell_type": "code",
   "execution_count": null,
   "id": "19c128f0",
   "metadata": {},
   "outputs": [],
   "source": [
    "# split the data into \n",
    "X_train, X_test, y_train, y_test = train_test_split(X, y, test_size=0.3, random_state=42)"
   ]
  },
  {
   "cell_type": "code",
   "execution_count": null,
   "id": "aa5549e2",
   "metadata": {},
   "outputs": [],
   "source": [
    "# Define the model\n",
    "# model = Pipeline([\n",
    "#     ('scaler', StandardScaler()),\n",
    "#     ('classifier', RandomForestClassifier())\n",
    "# ])\n",
    "\n",
    "\n",
    "# model = Pipeline([\n",
    "#     ('scaler', StandardScaler()),\n",
    "#     ('classifier', LinearSVC(C=0.025))\n",
    "# ])\n",
    "\n",
    "# model = make_pipeline(StandardScaler(),\n",
    "#                       LinearSVC(random_state=42, C=0.025)\n",
    "#         )\n",
    "model = make_pipeline(StandardScaler(),\n",
    "                      SVC(gamma=\"scale\", probability=True, random_state=42)\n",
    "        )"
   ]
  },
  {
   "cell_type": "code",
   "execution_count": null,
   "id": "18688ecd",
   "metadata": {
    "scrolled": true
   },
   "outputs": [],
   "source": [
    "# Train the model\n",
    "model.fit(X_train, y_train)"
   ]
  },
  {
   "cell_type": "code",
   "execution_count": null,
   "id": "8bf2ecc4",
   "metadata": {},
   "outputs": [],
   "source": [
    "# persist the trained model\n",
    "dump(model, 'trained-model-svc.joblib')"
   ]
  },
  {
   "cell_type": "code",
   "execution_count": null,
   "id": "4a802713",
   "metadata": {
    "scrolled": true
   },
   "outputs": [],
   "source": [
    "# Make predictions on the test set\n",
    "y_pred = model.predict(X_test)\n",
    "y_pred"
   ]
  },
  {
   "cell_type": "code",
   "execution_count": null,
   "id": "11d77862",
   "metadata": {
    "scrolled": true
   },
   "outputs": [],
   "source": [
    "# Evaluate the model's performance\n",
    "accuracy = metrics.accuracy_score(y_test, y_pred)\n",
    "print(f'Accuracy: {accuracy}')"
   ]
  },
  {
   "cell_type": "code",
   "execution_count": null,
   "id": "6add434d",
   "metadata": {},
   "outputs": [],
   "source": [
    "recall = metrics.recall_score(y_test, y_pred, zero_division=1, average=\"weighted\")\n",
    "print(f'Recall Score: {recall}')"
   ]
  },
  {
   "cell_type": "code",
   "execution_count": null,
   "id": "a25e6d8d",
   "metadata": {},
   "outputs": [],
   "source": [
    "precision = metrics.precision_score(y_test, y_pred, zero_division=1, average=\"weighted\")\n",
    "print(f'Precision Score: {precision}')"
   ]
  },
  {
   "cell_type": "code",
   "execution_count": null,
   "id": "276ba303",
   "metadata": {},
   "outputs": [],
   "source": [
    "# Evaluate the model classification report\n",
    "report = metrics.classification_report(y_test, y_pred, zero_division=1)\n",
    "report"
   ]
  },
  {
   "cell_type": "code",
   "execution_count": null,
   "id": "96cbd28b",
   "metadata": {},
   "outputs": [],
   "source": [
    "# plot confusion matrix chart\n",
    "\n",
    "cm = metrics.confusion_matrix(y_test, y_pred, labels=model.classes_)\n",
    "disp = metrics.ConfusionMatrixDisplay(confusion_matrix=cm,\n",
    "                              display_labels=model.classes_)\n",
    "disp.plot()\n",
    "plt.show()"
   ]
  },
  {
   "cell_type": "code",
   "execution_count": null,
   "id": "7288aea5",
   "metadata": {},
   "outputs": [],
   "source": [
    "# Determine the ROC curve\n",
    "\n",
    "y_pred_proba = model.predict_proba(X_test) [::,1]\n",
    "\n",
    "# Calculate false and true positive rates\n",
    "false_positive_rate, true_positive_rate, _ = metrics.roc_curve(y_test, y_pred_proba)\n",
    "\n",
    "# Calculate model AUC score\n",
    "auc = metrics.roc_auc_score(y_test, y_pred_proba)\n",
    "\n",
    "# plot the ROC curve\n",
    "plt.plot(false_positive_rate, true_positive_rate,label=\"AUC=\"+str(auc))\n",
    "plt.title('ROC Curve')\n",
    "plt.ylabel('True Positive Rate')\n",
    "plt.xlabel('false Positive Rate')\n",
    "plt.legend(loc=4)"
   ]
  }
 ],
 "metadata": {
  "kernelspec": {
   "display_name": "Python 3 (ipykernel)",
   "language": "python",
   "name": "python3"
  },
  "language_info": {
   "codemirror_mode": {
    "name": "ipython",
    "version": 3
   },
   "file_extension": ".py",
   "mimetype": "text/x-python",
   "name": "python",
   "nbconvert_exporter": "python",
   "pygments_lexer": "ipython3",
   "version": "3.9.13"
  }
 },
 "nbformat": 4,
 "nbformat_minor": 5
}
